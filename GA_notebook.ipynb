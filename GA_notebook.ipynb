{
 "cells": [
  {
   "cell_type": "code",
   "execution_count": 1,
   "metadata": {
    "collapsed": true
   },
   "outputs": [],
   "source": [
    "%matplotlib inline\n",
    "import numpy as np\n",
    "import matplotlib.pyplot as plt"
   ]
  },
  {
   "cell_type": "code",
   "execution_count": 42,
   "metadata": {
    "collapsed": false
   },
   "outputs": [],
   "source": [
    "class problem:\n",
    "    def __init__(self, size = 20, grid_limit = 100):\n",
    "        self.cities = []\n",
    "        self.size = size\n",
    "        \n",
    "        for i in range(size):\n",
    "            city = (np.random.randint(grid_limit), np.random.randint(grid_limit))\n",
    "            \n",
    "            while city in self.cities:\n",
    "                city = (np.random.randint(grid_limit), np.random.randint(grid_limit))\n",
    "            \n",
    "            self.cities.append(city)"
   ]
  },
  {
   "cell_type": "code",
   "execution_count": 56,
   "metadata": {
    "collapsed": false
   },
   "outputs": [],
   "source": [
    "class solution:\n",
    "    def __init__(self, probl, path = None):\n",
    "        self.probl = probl\n",
    "        \n",
    "        if path is None:\n",
    "            self.path = np.arange(len(self.probl.cities))\n",
    "            np.random.shuffle(self.path)\n",
    "        else:\n",
    "            self.path = path\n",
    "        \n",
    "        dists = np.zeros(len(self.path) - 1)\n",
    "        \n",
    "        for i in range(len(dists)):\n",
    "            dists[i] = np.sqrt((self.probl.cities[self.path[i]][0] - self.probl.cities[self.path[i + 1]][0]) ** 2 + \n",
    "                               (self.probl.cities[self.path[i]][1] - self.probl.cities[self.path[i + 1]][1]) ** 2)\n",
    "            \n",
    "        self.fitness = np.sum(dists)\n",
    "        \n",
    "    def plot(self):\n",
    "        x = [city[0] for city in self.probl.cities]\n",
    "        y = [city[1] for city in self.probl.cities]\n",
    "        path_x = [x[city] for city in self.path]\n",
    "        path_y = [y[city] for city in self.path]\n",
    "        plt.scatter(x, y)\n",
    "        plt.plot(path_x, path_y)\n",
    "        plt.title('Fitness Score: ' + str(self.fitness))\n",
    "        plt.show()"
   ]
  },
  {
   "cell_type": "code",
   "execution_count": 84,
   "metadata": {
    "collapsed": false
   },
   "outputs": [],
   "source": [
    "class population:\n",
    "    def __init__(self, probl, population_size = 50):\n",
    "        self.probl = probl\n",
    "        self.solutions = []\n",
    "        self.population_size = population_size\n",
    "         \n",
    "        for i in range(population_size):\n",
    "            self.solutions.append(solution(self.probl))\n",
    "            \n",
    "    def crossover(self):\n",
    "        parents = []\n",
    "        \n",
    "        for i in range(2):\n",
    "            pick = np.random.choice(self.population_size, 5, replace = False)\n",
    "            tournament = []\n",
    "            for j in range(len(pick)):\n",
    "                tournament.append(self.solutions[pick[j]])\n",
    "                \n",
    "            fittest = tournament[0]\n",
    "            for j in range(1, len(tournament)):\n",
    "                if tournament[j].fitness < fittest.fitness:\n",
    "                    fittest = tournament[j]\n",
    "                    \n",
    "            parents.append(fittest)\n",
    "            \n",
    "        co_path = np.zeros(self.probl.size, dtype = int) - 1\n",
    "        start = np.random.randint(self.probl.size - 1)\n",
    "        end = np.random.randint(self.probl.size)\n",
    "        while start >= end:\n",
    "            end = np.random.randint(self.probl.size)\n",
    "            \n",
    "        co_path[start : end] = parents[0].path[start : end]\n",
    "        for i in range(len(co_path)):\n",
    "            for j in range(len(co_path)):\n",
    "                if parents[1].path[j] not in co_path:\n",
    "                    co_path[i] = parents[1].path[j]\n",
    "        \n",
    "        return solution(self.probl, path = co_path)\n",
    "    \n",
    "    def crossover_all(self):\n",
    "        self.new_solutions = []\n",
    "        while len(self.new_solutions) < self.population_size:\n",
    "            self.new_solutions.append(self.crossover())\n",
    "        \n",
    "        self.solutions = self.new_solutions\n",
    "    \n",
    "    def mutation(self):\n",
    "        for i in range(len(self.solutions)):\n",
    "            for j in range(len(self.solutions[i].path)):\n",
    "                if np.random.rand() < 0.01:\n",
    "                    swap = np.random.randint(len(self.solutions[i].path))\n",
    "                    temp = self.solutions[i].path[swap]\n",
    "                    self.solutions[i].path[swap] = self.solutions[i].path[j]\n",
    "                    self.solutions[i].path[j] = temp\n",
    "                    \n",
    "    def get_fittest(self):\n",
    "        fittest = self.solutions[0]\n",
    "        for i in range(1, len(self.solutions)):\n",
    "            if self.solutions[i].fitness < fittest.fitness:\n",
    "                fittest = self.solutions[i]\n",
    "                \n",
    "        return fittest"
   ]
  },
  {
   "cell_type": "code",
   "execution_count": 85,
   "metadata": {
    "collapsed": false
   },
   "outputs": [],
   "source": [
    "class GA:\n",
    "    def __init__(self):\n",
    "        self.probl = problem()\n",
    "        self.pop = population(self.probl)\n",
    "        \n",
    "    \n",
    "    def evolve(self):\n",
    "        self.pop.crossover_all()\n",
    "        self.pop.mutation()       "
   ]
  },
  {
   "cell_type": "code",
   "execution_count": 91,
   "metadata": {
    "collapsed": false
   },
   "outputs": [
    {
     "name": "stdout",
     "output_type": "stream",
     "text": [
      "Evolution in progress...\n",
      "Evolution done! Final score is: 372.0. That is 52.0 % better than the best generation 1 solution.\n"
     ]
    },
    {
     "data": {
      "image/png": "[encoded data removed]",
      "text/plain": [
       "<matplotlib.figure.Figure at 0xe23990>"
      ]
     },
     "metadata": {},
     "output_type": "display_data"
    }
   ],
   "source": [
    "GArun = GA()\n",
    "print('Evolution in progress...')\n",
    "start = GArun.pop.get_fittest().fitness\n",
    "for i in range(100):\n",
    "    GArun.evolve()\n",
    "\n",
    "end = GArun.pop.get_fittest().fitness  \n",
    "print('Evolution done! Final score is: ' \n",
    "       + str(round(end)) + '. That is ' \n",
    "       + str(round((1 - end / start) * 100)) \n",
    "       + ' % better than the best generation 1 solution.')\n",
    "\n",
    "GArun.pop.get_fittest().plot()"
   ]
  },
  {
   "cell_type": "code",
   "execution_count": null,
   "metadata": {
    "collapsed": true
   },
   "outputs": [],
   "source": []
  }
 ],
 "metadata": {
  "kernelspec": {
   "display_name": "Python 3",
   "language": "python",
   "name": "python3"
  },
  "language_info": {
   "codemirror_mode": {
    "name": "ipython",
    "version": 3
   },
   "file_extension": ".py",
   "mimetype": "text/x-python",
   "name": "python",
   "nbconvert_exporter": "python",
   "pygments_lexer": "ipython3",
   "version": "3.4.1"
  }
 },
 "nbformat": 4,
 "nbformat_minor": 1
}
